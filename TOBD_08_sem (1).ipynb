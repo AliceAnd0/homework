{
 "cells": [
  {
   "cell_type": "markdown",
   "metadata": {},
   "source": [
    "## Оптимизация выполнения кода, векторизация, Numba"
   ]
  },
  {
   "cell_type": "markdown",
   "metadata": {},
   "source": [
    "Материалы:\n",
    "* Макрушин С.В. Лекция 3: Оптимизация выполнения кода, векторизация, Numba\n",
    "* IPython Cookbook, Second Edition (2018), глава 4\n",
    "* https://numba.pydata.org/numba-doc/latest/user/5minguide.html"
   ]
  },
  {
   "cell_type": "markdown",
   "metadata": {},
   "source": [
    "## Задачи для совместного разбора"
   ]
  },
  {
   "cell_type": "markdown",
   "metadata": {},
   "source": [
    "1. Сгенерируйте массив `A` из `N=1млн` случайных целых чисел на отрезке от 0 до 1000. Пусть `B[i] = A[i] + 100`. Посчитайте среднее значение массива `B`."
   ]
  },
  {
   "cell_type": "code",
   "execution_count": 7,
   "metadata": {},
   "outputs": [
    {
     "name": "stdout",
     "output_type": "stream",
     "text": [
      "599.710229\n"
     ]
    }
   ],
   "source": [
    "import random\n",
    "import statistics\n",
    "\n",
    "# генерируем массив A с N=1млн случайных целых чисел на отрезке от 0 до 1000\n",
    "N = 1000000\n",
    "A = [random.randint(0, 1000) for _ in range(N)]\n",
    "\n",
    "# создаем массив B\n",
    "B = [num + 100 for num in A]\n",
    "\n",
    "# вычисляем среднее значение массива B\n",
    "mean_B = statistics.mean(B)\n",
    "\n",
    "print(mean_B)"
   ]
  },
  {
   "cell_type": "markdown",
   "metadata": {},
   "source": [
    "2. Создайте таблицу 2млн строк и с 4 столбцами, заполненными случайными числами. Добавьте столбец `key`, которые содержит элементы из множества английских букв. Выберите из таблицы подмножество строк, для которых в столбце `key` указаны первые 5 английских букв."
   ]
  },
  {
   "cell_type": "code",
   "execution_count": 8,
   "metadata": {},
   "outputs": [
    {
     "name": "stdout",
     "output_type": "stream",
     "text": [
      "     A    B    C    D key\n",
      "0  344  258   93  930   E\n",
      "1  309  526  166  604   A\n",
      "2  320  437   22  381   C\n",
      "3  341  239  250  165   C\n",
      "4  367  839  813  502   E\n"
     ]
    }
   ],
   "source": [
    "import string\n",
    "\n",
    "\n",
    "N = 2000000\n",
    "df = pd.DataFrame(np.random.randint(0, 1000, size=(N, 4)), columns=list('ABCD'))\n",
    "\n",
    "# добавляем столбец key с случайными выборками из первых пяти букв английского алфавита\n",
    "df['key'] = np.random.choice(list(string.ascii_uppercase)[:5], N)\n",
    "\n",
    "print(df.head())"
   ]
  },
  {
   "cell_type": "markdown",
   "metadata": {},
   "source": [
    "## Лабораторная работа 3"
   ]
  },
  {
   "cell_type": "code",
   "execution_count": 1,
   "metadata": {},
   "outputs": [
    {
     "name": "stdout",
     "output_type": "stream",
     "text": [
      "Requirement already satisfied: line_profiler in c:\\users\\lekir\\anaconda3\\lib\\site-packages (4.0.3)\n"
     ]
    }
   ],
   "source": [
    "!pip install line_profiler\n",
    "%load_ext line_profiler\n",
    "import pandas as pd"
   ]
  },
  {
   "cell_type": "markdown",
   "metadata": {},
   "source": [
    "1. В файлах `recipes_sample.csv` и `reviews_sample.csv` (__ЛР 2__) находится информация об рецептах блюд и отзывах на эти рецепты соответственно. Загрузите данные из файлов в виде `pd.DataFrame` с названиями `recipes` и `reviews`. Обратите внимание на корректное считывание столбца(ов) с индексами. Приведите столбцы к нужным типам.\n",
    "\n",
    "Реализуйте несколько вариантов функции подсчета среднего значения столбца `rating` из таблицы `reviews` для отзывов, оставленных в 2010 году.\n",
    "\n",
    "A. С использованием метода `DataFrame.iterrows` исходной таблицы;\n",
    "\n",
    "B. С использованием метода `DataFrame.iterrows` таблицы, в которой сохранены только отзывы за 2010 год;\n",
    "\n",
    "C. С использованием метода `Series.mean`.\n",
    "\n",
    "Проверьте, что результаты работы всех написанных функций корректны и совпадают. Измерьте выполнения всех написанных функций.\n"
   ]
  },
  {
   "cell_type": "code",
   "execution_count": 2,
   "metadata": {},
   "outputs": [],
   "source": [
    "recipes = pd.read_csv('recipes_sample.csv', delimiter=\",\").dropna()\n",
    "reviews = pd.read_csv('reviews_sample.csv', delimiter=\",\").dropna()"
   ]
  },
  {
   "cell_type": "code",
   "execution_count": 3,
   "metadata": {},
   "outputs": [
    {
     "name": "stdout",
     "output_type": "stream",
     "text": [
      "*** KeyboardInterrupt exception caught in code being profiled."
     ]
    }
   ],
   "source": [
    "# A. С использованием метода DataFrame.iterrows исходной таблицы\n",
    "\n",
    "def func_A(dt):\n",
    "    num_rate = 0\n",
    "    num_2010 = 0\n",
    "    for i, row in dt.iterrows():\n",
    "        if '2010' in row['date']:        \n",
    "            num_rate+= row['rating']\n",
    "            num_2010 += 1\n",
    "    average = num_rate/num_2010  \n",
    "    return average\n",
    "%lprun -f func_A func_A(reviews)"
   ]
  },
  {
   "cell_type": "markdown",
   "metadata": {},
   "source": [
    "Timer unit: 1e-07 s\n",
    "\n",
    "Total time: 39.6683 s\n",
    "File: C:\\Users\\lekir\\AppData\\Local\\Temp\\ipykernel_9800\\2430686837.py\n",
    "Function: func_A at line 3\n",
    "\n",
    "Line #      Hits         Time  Per Hit   % Time  Line Contents\n",
    "==============================================================\n",
    "     3                                           def func_A(dt):\n",
    "     4         1         16.0     16.0      0.0      num_rate = 0\n",
    "     5         1          7.0      7.0      0.0      num_2010 = 0\n",
    "     6    126679  330914730.0   2612.2     83.4      for i, row in dt.iterrows():\n",
    "     7    114585   60357142.0    526.7     15.2          if '2010' in row['date']:        \n",
    "     8     12094    5258423.0    434.8      1.3              num_rate+= row['rating']\n",
    "     9     12094     152754.0     12.6      0.0              num_2010 += 1\n",
    "    10         1         20.0     20.0      0.0      average = num_rate/num_2010  \n",
    "    11         1          6.0      6.0      0.0      return average"
   ]
  },
  {
   "cell_type": "code",
   "execution_count": 82,
   "metadata": {
    "scrolled": false
   },
   "outputs": [],
   "source": [
    "reviews['date'] = pd.to_datetime(reviews['date'])\n",
    "filtered_rev = reviews.loc[(reviews['date'] >= '2010-01-01')\n",
    "                     & (reviews['date'] <= '2010-12-31')]"
   ]
  },
  {
   "cell_type": "code",
   "execution_count": 93,
   "metadata": {},
   "outputs": [],
   "source": [
    "# B. С использованием метода DataFrame.iterrows таблицы, в которой сохранены только отзывы за 2010 год\n",
    "def func_B(dt):\n",
    "    num = 0\n",
    "    for i, row in dt.iterrows():        \n",
    "        num+= row['rating']\n",
    "    average = num/len(dt)  \n",
    "    return average\n",
    "%lprun -f func_B func_B(filtered_rev)"
   ]
  },
  {
   "cell_type": "markdown",
   "metadata": {},
   "source": [
    "Timer unit: 1e-07 s\n",
    "\n",
    "Total time: 4.60383 s\n",
    "File: C:\\Users\\lekir\\AppData\\Local\\Temp\\ipykernel_9800\\384756805.py\n",
    "Function: func_B at line 2\n",
    "\n",
    "Line #      Hits         Time  Per Hit   % Time  Line Contents\n",
    "==============================================================\n",
    "     2                                           def func_B(dt):\n",
    "     3         1         19.0     19.0      0.0      num = 0\n",
    "     4     12094   38307322.0   3167.5     83.2      for i, row in dt.iterrows():        \n",
    "     5     12094    7730783.0    639.2     16.8          num+= row['rating']\n",
    "     6         1        134.0    134.0      0.0      average = num/len(dt)  \n",
    "     7         1          5.0      5.0      0.0      return average"
   ]
  },
  {
   "cell_type": "code",
   "execution_count": 92,
   "metadata": {},
   "outputs": [],
   "source": [
    "# C. С использованием метода Series.mean\n",
    "def func_C(dt):\n",
    "    return dt.rating.mean()\n",
    "\n",
    "%lprun -f func_C func_C(filtered_rev)"
   ]
  },
  {
   "cell_type": "markdown",
   "metadata": {},
   "source": [
    "Timer unit: 1e-07 s\n",
    "\n",
    "Total time: 0.0009544 s\n",
    "File: C:\\Users\\lekir\\AppData\\Local\\Temp\\ipykernel_9800\\3478546083.py\n",
    "Function: func_C at line 2\n",
    "\n",
    "Line #      Hits         Time  Per Hit   % Time  Line Contents\n",
    "==============================================================\n",
    "     2                                           def func_C(dt):\n",
    "     3         1       9544.0   9544.0    100.0      return dt.rating.mean()"
   ]
  },
  {
   "cell_type": "markdown",
   "metadata": {},
   "source": [
    "2. Какая из созданных функций выполняется медленнее? Что наиболее сильно влияет на скорость выполнения? Для ответа использовать профайлер `line_profiler`. Сохраните результаты работы профайлера в отдельную текстовую ячейку и прокомментируйте результаты его работы.\n",
    "\n",
    "(*). Сможете ли вы ускорить работу функции 1B, отказавшись от использования метода `iterrows`, но не используя метод `mean`?"
   ]
  },
  {
   "cell_type": "markdown",
   "metadata": {},
   "source": [
    "func_A (1A)    \n",
    "Проверка условия (из-за отсутствия сортировки по году) и iterrows"
   ]
  },
  {
   "cell_type": "code",
   "execution_count": 91,
   "metadata": {},
   "outputs": [],
   "source": [
    "# (*) func_B без iterrows\n",
    "def new_func_B(dt):\n",
    "    num = 0\n",
    "    for rate in dt.rating:        \n",
    "        num+= rate\n",
    "    average = num/len(dt)  \n",
    "    return average\n",
    "\n",
    "new_func_B(filtered_rev)\n",
    "%lprun -f new_func_B new_func_B(filtered_rev)"
   ]
  },
  {
   "cell_type": "markdown",
   "metadata": {},
   "source": [
    "Timer unit: 1e-07 s\n",
    "\n",
    "Total time: 0.0251735 s\n",
    "File: C:\\Users\\lekir\\AppData\\Local\\Temp\\ipykernel_9800\\375762793.py\n",
    "Function: new_func_B at line 2\n",
    "\n",
    "Line #      Hits         Time  Per Hit   % Time  Line Contents\n",
    "==============================================================\n",
    "     2                                           def new_func_B(dt):\n",
    "     3         1         15.0     15.0      0.0      num = 0\n",
    "     4     12094     129786.0     10.7     51.6      for rate in dt.rating:        \n",
    "     5     12094     121658.0     10.1     48.3          num+= rate\n",
    "     6         1        270.0    270.0      0.1      average = num/len(dt)  \n",
    "     7         1          6.0      6.0      0.0      return average"
   ]
  },
  {
   "cell_type": "markdown",
   "metadata": {},
   "source": [
    "3. Вам предлагается воспользоваться функцией, которая собирает статистику о том, сколько отзывов содержат то или иное слово. Измерьте время выполнения этой функции. Сможете ли вы найти узкие места в коде, используя профайлер? Выпишите (словами), что в имеющемся коде реализовано неоптимально. Оптимизируйте функцию и добейтесь значительного (как минимум, на один порядок) прироста в скорости выполнения."
   ]
  },
  {
   "cell_type": "markdown",
   "metadata": {},
   "source": [
    "Итерация по строкам с помощью iterrows(), добавление слова в список,     \n",
    "создание переменных recipe_id, review, два вложенных цикла  "
   ]
  },
  {
   "cell_type": "code",
   "execution_count": 110,
   "metadata": {},
   "outputs": [],
   "source": [
    "def get_word_reviews_count(df):\n",
    "    word_reviews = {}\n",
    "    for _, row in df.dropna(subset=['review']).iterrows():\n",
    "        recipe_id, review = row['recipe_id'], row['review']\n",
    "        words = review.split(' ')\n",
    "        for word in words:\n",
    "            if word not in word_reviews:\n",
    "                word_reviews[word] = []\n",
    "            word_reviews[word].append(recipe_id)\n",
    "    \n",
    "    word_reviews_count = {}\n",
    "    for _, row in df.dropna(subset=['review']).iterrows():\n",
    "        review = row['review']\n",
    "        words = review.split(' ')\n",
    "        for word in words:\n",
    "            word_reviews_count[word] = len(word_reviews[word])\n",
    "    return word_reviews_count\n",
    "%lprun -f get_word_reviews_count get_word_reviews_count(reviews)"
   ]
  },
  {
   "cell_type": "markdown",
   "metadata": {},
   "source": [
    "Timer unit: 1e-07 s\n",
    "\n",
    "Total time: 133.046 s\n",
    "File: C:\\Users\\lekir\\AppData\\Local\\Temp\\ipykernel_9800\\1150285335.py\n",
    "Function: get_word_reviews_count at line 1\n",
    "\n",
    "Line #      Hits         Time  Per Hit   % Time  Line Contents\n",
    "==============================================================\n",
    "     1                                           def get_word_reviews_count(df):\n",
    "     2         1         14.0     14.0      0.0      word_reviews = {}\n",
    "     3    126679  367392551.0   2900.2     27.6      for _, row in df.dropna(subset=['review']).iterrows():\n",
    "     4    126679  124431340.0    982.3      9.4          recipe_id, review = row['recipe_id'], row['review']\n",
    "     5    126679   13617237.0    107.5      1.0          words = review.split(' ')\n",
    "     6   6792010   53460942.0      7.9      4.0          for word in words:\n",
    "     7   6617066   71488227.0     10.8      5.4              if word not in word_reviews:\n",
    "     8    174944    2493238.0     14.3      0.2                  word_reviews[word] = []\n",
    "     9   6792010   92167176.0     13.6      6.9              word_reviews[word].append(recipe_id)\n",
    "    10                                               \n",
    "    11         1         15.0     15.0      0.0      word_reviews_count = {}\n",
    "    12    126679  345232077.0   2725.3     25.9      for _, row in df.dropna(subset=['review']).iterrows():\n",
    "    13    126679   68353202.0    539.6      5.1          review = row['review']\n",
    "    14    126679   13409018.0    105.9      1.0          words = review.split(' ')\n",
    "    15   6792010   55388926.0      8.2      4.2          for word in words:\n",
    "    16   6792010  123021981.0     18.1      9.2              word_reviews_count[word] = len(word_reviews[word])\n",
    "    17         1         17.0     17.0      0.0      return word_reviews_countTimer unit: 1e-07 s\n"
   ]
  },
  {
   "cell_type": "code",
   "execution_count": 108,
   "metadata": {
    "scrolled": true
   },
   "outputs": [],
   "source": [
    "def mine(df):\n",
    "    df = df.dropna()\n",
    "    word_reviews = {}\n",
    "    num_rev = 0\n",
    "    for rev in df.review:\n",
    "        words = rev.split()\n",
    "        for word in words:\n",
    "            if word not in word_reviews:\n",
    "                word_reviews[word] = 0\n",
    "            word_reviews[word] += 1\n",
    "    return word_reviews\n",
    "\n",
    "%lprun -f mine mine(reviews)"
   ]
  },
  {
   "cell_type": "markdown",
   "metadata": {},
   "source": [
    "Timer unit: 1e-07 s\n",
    "\n",
    "Total time: 21.3871 s\n",
    "File: C:\\Users\\lekir\\AppData\\Local\\Temp\\ipykernel_9800\\697006392.py\n",
    "Function: mine at line 1\n",
    "\n",
    "Line #      Hits         Time  Per Hit   % Time  Line Contents\n",
    "==============================================================\n",
    "     1                                           def mine(df):\n",
    "     2         1    1056466.0 1056466.0      0.5      df = df.dropna()\n",
    "     3         1          9.0      9.0      0.0      word_reviews = {}\n",
    "     4         1          9.0      9.0      0.0      num_rev = 0\n",
    "     5    126679    1706379.0     13.5      0.8      for rev in df.review:\n",
    "     6    126679   12628993.0     99.7      5.9          words = rev.split()\n",
    "     7   6589870   50749502.0      7.7     23.7          for word in words:\n",
    "     8   6425599   63522822.0      9.9     29.7              if word not in word_reviews:\n",
    "     9    164271    1740191.0     10.6      0.8                  word_reviews[word] = 0\n",
    "    10   6589870   82466241.0     12.5     38.6              word_reviews[word] += 1\n",
    "    11         1          9.0      9.0      0.0      return word_reviews"
   ]
  },
  {
   "cell_type": "markdown",
   "metadata": {},
   "source": [
    "4. Напишите несколько версий функции `MAPE` (см. [MAPE](https://en.wikipedia.org/wiki/Mean_absolute_percentage_error)) для расчета среднего абсолютного процентного отклонения значения рейтинга отзыва на рецепт от среднего значения рейтинга по всем отзывам для этого рецепта. \n",
    "    1. Без использования векторизованных операций и методов массивов `numpy` и без использования `numba`\n",
    "    2. Без использования векторизованных операций и методов массивов `numpy`, но с использованием `numba`\n",
    "    3. С использованием векторизованных операций и методов массивов `numpy`, но без использования `numba`\n",
    "    4. C использованием векторизованных операций и методов массивов `numpy` и `numba`\n",
    "    \n",
    "Измерьте время выполнения каждой из реализаций.\n",
    "\n",
    "Замечание: удалите из выборки отзывы с нулевым рейтингом.\n"
   ]
  },
  {
   "cell_type": "code",
   "execution_count": 4,
   "metadata": {},
   "outputs": [],
   "source": [
    "from numba import jit\n",
    "import numpy as np\n",
    "# удаляем отзывы с нулевым рейтингом.\n",
    "reviews = reviews[reviews['rating'] > 0]\n",
    "\n",
    "def mape(ratings):\n",
    "    mean_rating = np.mean(ratings)\n",
    "    abs_pct_error = np.abs(ratings - mean_rating) / mean_rating\n",
    "    mape = np.mean(abs_pct_error) * 100\n",
    "    return mape\n",
    "\n",
    "# Версия 1: Без использования векторизованных операций и методов массивов numpy и без использования numba\n",
    "def mape_v1(reviews):\n",
    "    mape_values = []\n",
    "    for recipe_id in reviews['recipe_id'].unique():\n",
    "        recipe_reviews = reviews[reviews['recipe_id'] == recipe_id]\n",
    "        ratings = recipe_reviews['rating']\n",
    "        mape_ = mape(ratings)\n",
    "        mape_values.append(mape_)\n",
    "    return mape_values\n",
    "\n",
    "# Версия 2: Без использования векторизованных операций и методов массивов numpy, но с использованием numba\n",
    "@jit(nopython=True)\n",
    "def mape_numba(ratings, mean_rating):\n",
    "    \"\"\"\n",
    "    Calculate the MAPE for the given ratings using numba to speed up the\n",
    "    calculations.\n",
    "    \"\"\"\n",
    "    n = ratings.shape[0]\n",
    "    abs_pct_error = np.empty(n)\n",
    "    for i in range(n):\n",
    "        abs_pct_error[i] = abs(ratings[i] - mean_rating) / mean_rating\n",
    "    mape = np.mean(abs_pct_error) * 100\n",
    "    return mape\n",
    "\n",
    "def mape_v2(reviews):\n",
    "    mape_values = []\n",
    "    for recipe_id in reviews['recipe_id'].unique():\n",
    "        recipe_reviews = reviews[reviews['recipe_id'] == recipe_id]\n",
    "        ratings = recipe_reviews['rating']\n",
    "        mean_rating = np.mean(ratings)\n",
    "        mape_ = mape_numba(ratings.values, mean_rating)\n",
    "        mape_values.append(mape_)\n",
    "    return mape_values\n",
    "\n",
    "                                   \n",
    "# Версия 3: С использованием векторизованных операций и методов массивов numpy, но без использования numba\n",
    "def mape_v3(reviews):\n",
    "    recipe_ids = reviews['recipe_id'].unique()\n",
    "    mean_ratings = reviews.groupby('recipe_id')['rating'].transform('mean')\n",
    "    mape_values = []\n",
    "    for i, recipe_id in enumerate(recipe_ids):\n",
    "        recipe_reviews = reviews[reviews['recipe_id'] == recipe_id]\n",
    "        ratings = recipe_reviews['rating']\n",
    "        mean_rating = mean_ratings[i]\n",
    "        abs_pct_error = np.abs(ratings - mean_rating) / mean_rating\n",
    "        mape = np.mean(abs_pct_error) * 100\n",
    "        mape_values.append(mape)\n",
    "    return mape_values\n",
    "\n",
    "# Версия 4: C использованием векторизованных операций и методов массивов numpy и numba\n",
    "@jit(nopython=True)\n",
    "def mape_numba_v2(ratings, mean_rating):\n",
    "    \"\"\"\n",
    "    Calculate the MAPE for the given ratings using vectorization and numba to\n",
    "    speed up the calculations.\n",
    "    \"\"\"\n",
    "    abs_pct_error = np.abs(ratings - mean_rating) / mean_rating\n",
    "    mape = np.mean(abs_pct_error) * 100\n",
    "    return mape\n",
    "\n",
    "def mape_v4(reviews):\n",
    "    recipe_ids = reviews['recipe_id'].unique()\n",
    "    mean_ratings = reviews.groupby('recipe_id')['rating'].transform('mean').values\n",
    "    mape_values = np.empty(len(recipe_ids))\n",
    "    for i, recipe_id in enumerate(recipe_ids):\n",
    "        recipe_reviews = reviews[reviews['recipe_id'] == recipe_id]\n",
    "        ratings = recipe_reviews['rating'].values\n",
    "        mean_rating = mean_ratings[i]\n",
    "        mape = mape_numba_v2(ratings, mean_rating)\n",
    "        mape_values[i] = mape\n",
    "    return mape_values"
   ]
  },
  {
   "cell_type": "code",
   "execution_count": 5,
   "metadata": {},
   "outputs": [],
   "source": [
    "%lprun -f mape_v1 mape_v1(reviews)"
   ]
  },
  {
   "cell_type": "markdown",
   "metadata": {},
   "source": [
    "Timer unit: 1e-07 s\n",
    "\n",
    "Total time: 51.4342 s\n",
    "File: C:\\Users\\lekir\\AppData\\Local\\Temp\\ipykernel_11620\\1341558944.py\n",
    "Function: mape_v1 at line 13\n",
    "\n",
    "Line #      Hits         Time  Per Hit   % Time  Line Contents\n",
    "==============================================================\n",
    "    13                                           def mape_v1(reviews):\n",
    "    14         1         11.0     11.0      0.0      mape_values = []\n",
    "    15     27439     637529.0     23.2      0.1      for recipe_id in reviews['recipe_id'].unique():\n",
    "    16     27439  219402346.0   7996.0     42.7          recipe_reviews = reviews[reviews['recipe_id'] == recipe_id]\n",
    "    17     27439   25683283.0    936.0      5.0          ratings = recipe_reviews['rating']\n",
    "    18     27439  268376497.0   9780.8     52.2          mape_ = mape(ratings)\n",
    "    19     27439     242278.0      8.8      0.0          mape_values.append(mape_)\n",
    "    20         1          6.0      6.0      0.0      return mape_values"
   ]
  },
  {
   "cell_type": "code",
   "execution_count": 6,
   "metadata": {},
   "outputs": [],
   "source": [
    "%lprun -f mape_v2 mape_v2(reviews)"
   ]
  },
  {
   "cell_type": "markdown",
   "metadata": {},
   "source": [
    "Timer unit: 1e-07 s\n",
    "\n",
    "Total time: 42.2473 s\n",
    "File: C:\\Users\\lekir\\AppData\\Local\\Temp\\ipykernel_11620\\1341558944.py\n",
    "Function: mape_v2 at line 36\n",
    "\n",
    "Line #      Hits         Time  Per Hit   % Time  Line Contents\n",
    "==============================================================\n",
    "    36                                           def mape_v2(reviews):\n",
    "    37         1          7.0      7.0      0.0      mape_values = []\n",
    "    38     27439     281928.0     10.3      0.1      for recipe_id in reviews['recipe_id'].unique():\n",
    "    39     27439  197350130.0   7192.3     46.7          recipe_reviews = reviews[reviews['recipe_id'] == recipe_id]\n",
    "    40     27439   23177275.0    844.7      5.5          ratings = recipe_reviews['rating']\n",
    "    41     27439   41319687.0   1505.9      9.8          mean_rating = np.mean(ratings)\n",
    "    42     27439  160126853.0   5835.7     37.9          mape_ = mape_numba(ratings.values, mean_rating)\n",
    "    43     27439     217606.0      7.9      0.1          mape_values.append(mape_)\n",
    "    44         1          3.0      3.0      0.0      return mape_values"
   ]
  },
  {
   "cell_type": "code",
   "execution_count": 11,
   "metadata": {},
   "outputs": [],
   "source": [
    "%lprun -f mape_v4 mape_v4(reviews)"
   ]
  },
  {
   "cell_type": "markdown",
   "metadata": {},
   "source": [
    "Line #      Hits         Time  Per Hit   % Time  Line Contents\n",
    "==============================================================\n",
    "    72                                           def mape_v4(reviews):\n",
    "    73         1      42801.0  42801.0      0.0      recipe_ids = reviews['recipe_id'].unique()\n",
    "    74         1     133669.0 133669.0      0.1      mean_ratings = reviews.groupby('recipe_id')['rating'].transform('mean').values\n",
    "    75         1         38.0     38.0      0.0      mape_values = np.empty(len(recipe_ids))\n",
    "    76     27439     280505.0     10.2      0.1      for i, recipe_id in enumerate(recipe_ids):\n",
    "    77     27439  207070823.0   7546.6     86.2          recipe_reviews = reviews[reviews['recipe_id'] == recipe_id]\n",
    "    78     27439   25614574.0    933.5     10.7          ratings = recipe_reviews['rating'].values\n",
    "    79     27439     272823.0      9.9      0.1          mean_rating = mean_ratings[i]\n",
    "    80     27439    6473164.0    235.9      2.7          mape = mape_numba_v2(ratings, mean_rating)\n",
    "    81     27439     283354.0     10.3      0.1          mape_values[i] = mape\n",
    "    82         1         19.0     19.0      0.0      return mape_values"
   ]
  },
  {
   "cell_type": "markdown",
   "metadata": {},
   "source": [
    "#### [версия 2]\n",
    "* Уточнены формулировки задач 1, 3, 4"
   ]
  },
  {
   "cell_type": "code",
   "execution_count": null,
   "metadata": {},
   "outputs": [],
   "source": []
  }
 ],
 "metadata": {
  "kernelspec": {
   "display_name": "Python 3 (ipykernel)",
   "language": "python",
   "name": "python3"
  },
  "language_info": {
   "codemirror_mode": {
    "name": "ipython",
    "version": 3
   },
   "file_extension": ".py",
   "mimetype": "text/x-python",
   "name": "python",
   "nbconvert_exporter": "python",
   "pygments_lexer": "ipython3",
   "version": "3.9.12"
  }
 },
 "nbformat": 4,
 "nbformat_minor": 4
}
